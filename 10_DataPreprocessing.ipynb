{
 "cells": [
  {
   "cell_type": "markdown",
   "id": "worst-track",
   "metadata": {},
   "source": [
    "# Data Pre-Processing \n",
    "#### 1. Encodage --> sklearn.preprocessing\n",
    "#### 2. Normalisation --> sklearn.preprocessing \n",
    "#### 3. Imputation --> sklearn.impute\n",
    "#### 4. Selection --> sklearn.feature_selection\n",
    "#### 5. Extraction --> sklearn.feature_extraction"
   ]
  },
  {
   "cell_type": "markdown",
   "id": "amber-manitoba",
   "metadata": {},
   "source": [
    "## I. Encodage \n",
    "#### Qualitative Data --> Numeric Data \n",
    "### 1. ***Ordinal Encoder*** (category|class) --> Unique Value  \n",
    "   #### --> LabelEncoder()\n",
    "   #### --> OrdinalEncoder()"
   ]
  },
  {
   "cell_type": "markdown",
   "id": "found-eligibility",
   "metadata": {},
   "source": [
    "### 1.1. LabelEncoder() --> Target Variable Y\n",
    "#### Limites : 1 dim [y]"
   ]
  },
  {
   "cell_type": "code",
   "execution_count": 1,
   "id": "interior-importance",
   "metadata": {},
   "outputs": [],
   "source": [
    "import numpy as np\n",
    "import matplotlib.pyplot as plt \n",
    "from sklearn.preprocessing import LabelEncoder"
   ]
  },
  {
   "cell_type": "code",
   "execution_count": 2,
   "id": "substantial-carroll",
   "metadata": {},
   "outputs": [],
   "source": [
    "y = np.array(['chien','chat','chat','chien','gazelle','chien'])"
   ]
  },
  {
   "cell_type": "code",
   "execution_count": 3,
   "id": "opposed-breast",
   "metadata": {},
   "outputs": [
    {
     "data": {
      "text/plain": [
       "array([1, 0, 0, 1, 2, 1], dtype=int64)"
      ]
     },
     "execution_count": 3,
     "metadata": {},
     "output_type": "execute_result"
    }
   ],
   "source": [
    "encoder = LabelEncoder()\n",
    "encoder.fit_transform(y)"
   ]
  },
  {
   "cell_type": "markdown",
   "id": "bottom-original",
   "metadata": {},
   "source": [
    "### 1.2. OrdinalEncoder() --> Features Variables (X)"
   ]
  },
  {
   "cell_type": "code",
   "execution_count": 4,
   "id": "boring-degree",
   "metadata": {},
   "outputs": [],
   "source": [
    "from sklearn.preprocessing import OrdinalEncoder"
   ]
  },
  {
   "cell_type": "code",
   "execution_count": 5,
   "id": "running-swiss",
   "metadata": {},
   "outputs": [],
   "source": [
    "ordEncoder = OrdinalEncoder()"
   ]
  },
  {
   "cell_type": "code",
   "execution_count": 6,
   "id": "understood-patio",
   "metadata": {},
   "outputs": [],
   "source": [
    "X = np.array([['chat','chien'],['oiseau','chat'],['chien','chat']])"
   ]
  },
  {
   "cell_type": "code",
   "execution_count": 7,
   "id": "accredited-simon",
   "metadata": {},
   "outputs": [
    {
     "data": {
      "text/plain": [
       "array([[0., 1.],\n",
       "       [2., 0.],\n",
       "       [1., 0.]])"
      ]
     },
     "execution_count": 7,
     "metadata": {},
     "output_type": "execute_result"
    }
   ],
   "source": [
    "ordEncoder.fit_transform(X)"
   ]
  },
  {
   "cell_type": "markdown",
   "id": "criminal-johnson",
   "metadata": {},
   "source": [
    "### 2. OneHot Encoder (category|class) --> Unique Column"
   ]
  },
  {
   "cell_type": "markdown",
   "id": "chronic-gabriel",
   "metadata": {},
   "source": [
    "### 2.1. LabelBinarize()"
   ]
  },
  {
   "cell_type": "code",
   "execution_count": 8,
   "id": "informed-pipeline",
   "metadata": {},
   "outputs": [],
   "source": [
    "from sklearn.preprocessing import LabelBinarizer"
   ]
  },
  {
   "cell_type": "code",
   "execution_count": 9,
   "id": "sitting-beverage",
   "metadata": {},
   "outputs": [
    {
     "data": {
      "text/plain": [
       "array([[1, 0, 0],\n",
       "       [0, 1, 0],\n",
       "       [1, 0, 0],\n",
       "       [1, 0, 0],\n",
       "       [0, 1, 0],\n",
       "       [0, 0, 1],\n",
       "       [1, 0, 0]])"
      ]
     },
     "execution_count": 9,
     "metadata": {},
     "output_type": "execute_result"
    }
   ],
   "source": [
    "labelBinarizer = LabelBinarizer(sparse_output=False)\n",
    "\n",
    "y = np.array(['chat','chien','chat','chat','chien','oiseau','chat'])\n",
    "\n",
    "labelBinarizer.fit_transform(y=y)"
   ]
  },
  {
   "cell_type": "markdown",
   "id": "yellow-material",
   "metadata": {},
   "source": [
    "### 2.2. OneHotEncoder"
   ]
  },
  {
   "cell_type": "code",
   "execution_count": 10,
   "id": "electronic-enough",
   "metadata": {},
   "outputs": [],
   "source": [
    "from sklearn.preprocessing import OneHotEncoder"
   ]
  },
  {
   "cell_type": "code",
   "execution_count": 11,
   "id": "outside-multiple",
   "metadata": {},
   "outputs": [
    {
     "data": {
      "text/plain": [
       "array([[1., 0., 1.],\n",
       "       [0., 1., 1.],\n",
       "       [1., 0., 1.],\n",
       "       [1., 0., 1.]])"
      ]
     },
     "execution_count": 11,
     "metadata": {},
     "output_type": "execute_result"
    }
   ],
   "source": [
    "oneHotEncoder = OneHotEncoder(sparse=False)\n",
    "X = np.array([['chat','chien'],['chien','chien'],['chat','chien'],['chat','chien']])\n",
    "oneHotEncoder.fit_transform(X=X)"
   ]
  },
  {
   "cell_type": "markdown",
   "id": "fiscal-modern",
   "metadata": {},
   "source": [
    "# II. Normalisation\n",
    "\n",
    "### - fit_transform(X_train) : \n",
    "   #### X_train_Scaled = (X_train - X_train_min) / (X_train_max - X_train_min)\n",
    "\n",
    "### - transform(X_test)\n",
    "   #### X_test_Scaled = (X_test - X_train_min) / (X_train_max - X_train_min)\n",
    "   "
   ]
  },
  {
   "cell_type": "code",
   "execution_count": 12,
   "id": "preceding-command",
   "metadata": {},
   "outputs": [],
   "source": [
    "from sklearn.preprocessing import MinMaxScaler\n",
    "from sklearn.datasets import load_iris"
   ]
  },
  {
   "cell_type": "code",
   "execution_count": 13,
   "id": "exceptional-reservation",
   "metadata": {},
   "outputs": [
    {
     "data": {
      "text/plain": [
       "<matplotlib.collections.PathCollection at 0xbb372c0518>"
      ]
     },
     "execution_count": 13,
     "metadata": {},
     "output_type": "execute_result"
    },
    {
     "data": {
      "image/png": "[encoded data removed]",
      "text/plain": [
       "<Figure size 432x288 with 1 Axes>"
      ]
     },
     "metadata": {
      "needs_background": "light"
     },
     "output_type": "display_data"
    }
   ],
   "source": [
    "iris = load_iris() \n",
    "X = iris.data \n",
    "\n",
    "plt.scatter(X[:, 1], X[:, 2])"
   ]
  },
  {
   "cell_type": "code",
   "execution_count": 14,
   "id": "greater-lounge",
   "metadata": {},
   "outputs": [
    {
     "data": {
      "text/plain": [
       "<matplotlib.collections.PathCollection at 0xbb373bce10>"
      ]
     },
     "execution_count": 14,
     "metadata": {},
     "output_type": "execute_result"
    },
    {
     "data": {
      "image/png": "[encoded data removed]",
      "text/plain": [
       "<Figure size 432x288 with 1 Axes>"
      ]
     },
     "metadata": {
      "needs_background": "light"
     },
     "output_type": "display_data"
    }
   ],
   "source": [
    "X_minmax = MinMaxScaler().fit_transform(X=X)\n",
    "\n",
    "plt.scatter(X[:, 1], X[:, 2])\n",
    "plt.scatter(X_minmax[:, 1], X_minmax[:, 2])"
   ]
  },
  {
   "cell_type": "markdown",
   "id": "leading-sierra",
   "metadata": {},
   "source": [
    "## Pipeline ((Transformer) + (Estimator)) --> Composite Estimator"
   ]
  },
  {
   "cell_type": "code",
   "execution_count": 21,
   "id": "personal-kansas",
   "metadata": {},
   "outputs": [],
   "source": [
    "from sklearn.preprocessing import StandardScaler\n",
    "from sklearn.linear_model import SGDClassifier\n",
    "from sklearn.pipeline import make_pipeline\n",
    "from sklearn.datasets import load_iris \n",
    "from sklearn.model_selection import train_test_split"
   ]
  },
  {
   "cell_type": "code",
   "execution_count": 25,
   "id": "executive-adobe",
   "metadata": {},
   "outputs": [
    {
     "data": {
      "text/plain": [
       "Pipeline(steps=[('standardscaler', StandardScaler()),\n",
       "                ('sgdclassifier', SGDClassifier())])"
      ]
     },
     "execution_count": 25,
     "metadata": {},
     "output_type": "execute_result"
    }
   ],
   "source": [
    "iris = load_iris()\n",
    "\n",
    "X = iris.data \n",
    "y = iris.target\n",
    "\n",
    "X_train, X_test, y_train, y_test = train_test_split(X, y)\n",
    "\n",
    "model = make_pipeline(StandardScaler(),\n",
    "                     SGDClassifier())\n",
    "\n",
    "model.fit(X_train, y_train)"
   ]
  },
  {
   "cell_type": "code",
   "execution_count": 26,
   "id": "accessible-march",
   "metadata": {},
   "outputs": [
    {
     "data": {
      "text/plain": [
       "array([1, 1, 0, 1, 2, 2, 2, 1, 2, 0, 0, 2, 0, 2, 1, 0, 0, 1, 1, 2, 0, 0,\n",
       "       1, 0, 2, 2, 1, 0, 0, 0, 1, 0, 1, 0, 0, 1, 2, 0])"
      ]
     },
     "execution_count": 26,
     "metadata": {},
     "output_type": "execute_result"
    }
   ],
   "source": [
    "model.predict(X_test)"
   ]
  },
  {
   "cell_type": "code",
   "execution_count": null,
   "id": "functioning-harbor",
   "metadata": {},
   "outputs": [],
   "source": []
  }
 ],
 "metadata": {
  "kernelspec": {
   "display_name": "Python 3",
   "language": "python",
   "name": "python3"
  },
  "language_info": {
   "codemirror_mode": {
    "name": "ipython",
    "version": 3
   },
   "file_extension": ".py",
   "mimetype": "text/x-python",
   "name": "python",
   "nbconvert_exporter": "python",
   "pygments_lexer": "ipython3",
   "version": "3.7.0"
  }
 },
 "nbformat": 4,
 "nbformat_minor": 5
}
