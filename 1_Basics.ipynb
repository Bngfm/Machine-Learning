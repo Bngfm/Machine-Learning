{
 "cells": [
  {
   "cell_type": "markdown",
   "id": "registered-shareware",
   "metadata": {},
   "source": [
    "### Arithmetique "
   ]
  },
  {
   "cell_type": "code",
   "execution_count": 12,
   "id": "varying-complaint",
   "metadata": {},
   "outputs": [],
   "source": [
    "def som(a, b):\n",
    "    return a+b \n",
    "\n",
    "def div(a, b):\n",
    "    return a/b \n",
    "\n",
    "def mul(a, b):\n",
    "    return a*b \n",
    "\n",
    "def sub(a, b):\n",
    "    return a-b\n",
    "\n",
    "def puiss(a, b):\n",
    "    return a ** b"
   ]
  },
  {
   "cell_type": "code",
   "execution_count": 14,
   "id": "liable-supplement",
   "metadata": {},
   "outputs": [
    {
     "data": {
      "text/plain": [
       "(9, 2.5, 16, 21, 8)"
      ]
     },
     "execution_count": 14,
     "metadata": {},
     "output_type": "execute_result"
    }
   ],
   "source": [
    "som(4,5), div(5,2), mul(2,8), sub(25,4), puiss(2,3)"
   ]
  },
  {
   "cell_type": "markdown",
   "id": "pacific-visiting",
   "metadata": {},
   "source": [
    "### Boolean "
   ]
  },
  {
   "cell_type": "code",
   "execution_count": 7,
   "id": "lyric-transcription",
   "metadata": {},
   "outputs": [],
   "source": [
    "def eq(a, b):\n",
    "    return a == b\n",
    "\n",
    "def leq(a, b):\n",
    "    return a <= b\n",
    "\n",
    "def meq(a, b):\n",
    "    return a >= b\n",
    "\n",
    "def dif(a, b):\n",
    "    return a != b"
   ]
  },
  {
   "cell_type": "code",
   "execution_count": 42,
   "id": "obvious-situation",
   "metadata": {},
   "outputs": [
    {
     "data": {
      "text/plain": [
       "(False, True, False, True)"
      ]
     },
     "execution_count": 42,
     "metadata": {},
     "output_type": "execute_result"
    }
   ],
   "source": [
    "eq(a=4,b=5), leq(a=2,b=5), meq(6,45), dif(4,5)"
   ]
  },
  {
   "cell_type": "markdown",
   "id": "negative-carnival",
   "metadata": {},
   "source": [
    "### Logic "
   ]
  },
  {
   "cell_type": "code",
   "execution_count": 22,
   "id": "simple-meaning",
   "metadata": {},
   "outputs": [],
   "source": [
    "def AND(a, b):\n",
    "    if a == True and b == True :\n",
    "        return True\n",
    "    else :\n",
    "        return False\n",
    "# python-----------\n",
    "def andP(a, b):\n",
    "    return a & b\n",
    "# -----------------\n",
    "\n",
    "def OR(a, b):\n",
    "    if a == False and b == False:\n",
    "        return False\n",
    "    else:\n",
    "        return True\n",
    "# python-----------\n",
    "def orP(a, b):\n",
    "    return a | b\n",
    "# -----------------\n",
    "\n",
    "def XOR(a, b):\n",
    "    if (a==True and b==True) or (a==False and b==False):\n",
    "        return False\n",
    "    else:\n",
    "        return True\n",
    "# python ----------\n",
    "def xorP(a, b):\n",
    "    return a ^ b\n",
    "# -----------------"
   ]
  },
  {
   "cell_type": "code",
   "execution_count": 28,
   "id": "corporate-religion",
   "metadata": {},
   "outputs": [
    {
     "data": {
      "text/plain": [
       "(False, True, False)"
      ]
     },
     "execution_count": 28,
     "metadata": {},
     "output_type": "execute_result"
    }
   ],
   "source": [
    "AND(True, False), OR(True,False), XOR(True, True)"
   ]
  },
  {
   "cell_type": "code",
   "execution_count": 29,
   "id": "marked-lecture",
   "metadata": {},
   "outputs": [
    {
     "data": {
      "text/plain": [
       "(False, True, False)"
      ]
     },
     "execution_count": 29,
     "metadata": {},
     "output_type": "execute_result"
    }
   ],
   "source": [
    "andP(True, False), orP(True, False), xorP(True, True)"
   ]
  },
  {
   "cell_type": "markdown",
   "id": "motivated-phrase",
   "metadata": {},
   "source": [
    "### Declaration"
   ]
  },
  {
   "cell_type": "code",
   "execution_count": 30,
   "id": "fifty-footage",
   "metadata": {},
   "outputs": [],
   "source": [
    "x, y, name = 1, 2.78, \"python\""
   ]
  },
  {
   "cell_type": "code",
   "execution_count": 34,
   "id": "psychological-trust",
   "metadata": {},
   "outputs": [
    {
     "name": "stdout",
     "output_type": "stream",
     "text": [
      "1  -->  <class 'int'> \n",
      " 2.78  -->  <class 'float'> \n",
      " python  -->  <class 'str'>\n"
     ]
    }
   ],
   "source": [
    "print(x, \" --> \", type(x), \"\\n\", y, \" --> \", type(y),\"\\n\", name, \" --> \", type(name))"
   ]
  },
  {
   "cell_type": "markdown",
   "id": "successful-hormone",
   "metadata": {},
   "source": [
    "### lambda \n",
    "#### f = lambda x : x**2 <=> f(x) = x**2"
   ]
  },
  {
   "cell_type": "code",
   "execution_count": 39,
   "id": "hairy-movement",
   "metadata": {},
   "outputs": [],
   "source": [
    "f = lambda x : x**2\n",
    "g = lambda x, y : 2*x + y"
   ]
  },
  {
   "cell_type": "code",
   "execution_count": 40,
   "id": "identical-dominican",
   "metadata": {},
   "outputs": [
    {
     "data": {
      "text/plain": [
       "(4, 25, 17)"
      ]
     },
     "execution_count": 40,
     "metadata": {},
     "output_type": "execute_result"
    }
   ],
   "source": [
    "f(2), f(5), g(5,7) "
   ]
  },
  {
   "cell_type": "markdown",
   "id": "synthetic-plastic",
   "metadata": {},
   "source": [
    "### If ...:  elif ...:  else:"
   ]
  },
  {
   "cell_type": "code",
   "execution_count": 44,
   "id": "annual-catering",
   "metadata": {},
   "outputs": [
    {
     "name": "stdout",
     "output_type": "stream",
     "text": [
      "more than 20\n"
     ]
    }
   ],
   "source": [
    "x = 25\n",
    "\n",
    "if x > 0 and x < 10 :\n",
    "    print(\"between 0 and 10\")\n",
    "elif x > 9 and x < 20 :\n",
    "    print(\"between 10 and 20\")\n",
    "else:\n",
    "    print(\"more than 20\")"
   ]
  },
  {
   "cell_type": "code",
   "execution_count": 45,
   "id": "crude-pizza",
   "metadata": {},
   "outputs": [],
   "source": [
    "def sign(x):\n",
    "    if x<0:\n",
    "        print(\"negative\")\n",
    "    elif x == 0:\n",
    "        print(\"null\")\n",
    "    else:\n",
    "        print(\"positive\")"
   ]
  },
  {
   "cell_type": "code",
   "execution_count": 46,
   "id": "gross-alarm",
   "metadata": {},
   "outputs": [
    {
     "name": "stdout",
     "output_type": "stream",
     "text": [
      "positive\n",
      "negative\n",
      "null\n"
     ]
    },
    {
     "data": {
      "text/plain": [
       "(None, None, None)"
      ]
     },
     "execution_count": 46,
     "metadata": {},
     "output_type": "execute_result"
    }
   ],
   "source": [
    "sign(8), sign(-2), sign(0)"
   ]
  },
  {
   "cell_type": "markdown",
   "id": "latter-manitoba",
   "metadata": {},
   "source": [
    "### for loop"
   ]
  },
  {
   "cell_type": "code",
   "execution_count": 50,
   "id": "mobile-ratio",
   "metadata": {},
   "outputs": [
    {
     "name": "stdout",
     "output_type": "stream",
     "text": [
      "0\n",
      "1\n",
      "2\n",
      "3\n",
      "4\n",
      "5\n",
      "6\n",
      "7\n",
      "8\n",
      "9\n"
     ]
    }
   ],
   "source": [
    "for i in range(0, 10):\n",
    "    print(i)"
   ]
  },
  {
   "cell_type": "code",
   "execution_count": 59,
   "id": "crude-approval",
   "metadata": {},
   "outputs": [
    {
     "name": "stdout",
     "output_type": "stream",
     "text": [
      "0\n",
      "2\n",
      "4\n",
      "6\n",
      "8\n"
     ]
    }
   ],
   "source": [
    "# by step=2\n",
    "for i in range(0, 10, 2):\n",
    "    print(i)"
   ]
  },
  {
   "cell_type": "code",
   "execution_count": 60,
   "id": "express-quarterly",
   "metadata": {},
   "outputs": [
    {
     "name": "stdout",
     "output_type": "stream",
     "text": [
      "0\n",
      "2\n",
      "4\n",
      "6\n",
      "8\n"
     ]
    }
   ],
   "source": [
    "for i in range(10):\n",
    "    if i % 2 == 0:\n",
    "        print(i)"
   ]
  },
  {
   "cell_type": "code",
   "execution_count": 62,
   "id": "italian-plastic",
   "metadata": {},
   "outputs": [
    {
     "name": "stdout",
     "output_type": "stream",
     "text": [
      "10\n",
      "9\n",
      "8\n",
      "7\n",
      "6\n"
     ]
    }
   ],
   "source": [
    "# inverse\n",
    "for i in range(10, 5, -1):\n",
    "    print(i)"
   ]
  },
  {
   "cell_type": "markdown",
   "id": "documentary-double",
   "metadata": {},
   "source": [
    "### while loop"
   ]
  },
  {
   "cell_type": "code",
   "execution_count": 63,
   "id": "mounted-glass",
   "metadata": {},
   "outputs": [
    {
     "name": "stdout",
     "output_type": "stream",
     "text": [
      "0\n",
      "1\n",
      "2\n",
      "3\n",
      "4\n"
     ]
    }
   ],
   "source": [
    "x = 0\n",
    "while x<5:\n",
    "    print(x)\n",
    "    x+=1 "
   ]
  },
  {
   "cell_type": "code",
   "execution_count": null,
   "id": "underlying-wireless",
   "metadata": {},
   "outputs": [],
   "source": []
  }
 ],
 "metadata": {
  "kernelspec": {
   "display_name": "Python 3",
   "language": "python",
   "name": "python3"
  },
  "language_info": {
   "codemirror_mode": {
    "name": "ipython",
    "version": 3
   },
   "file_extension": ".py",
   "mimetype": "text/x-python",
   "name": "python",
   "nbconvert_exporter": "python",
   "pygments_lexer": "ipython3",
   "version": "3.7.0"
  }
 },
 "nbformat": 4,
 "nbformat_minor": 5
}
