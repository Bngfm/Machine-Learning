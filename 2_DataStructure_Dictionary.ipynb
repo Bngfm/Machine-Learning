{
 "cells": [
  {
   "cell_type": "markdown",
   "id": "ignored-mission",
   "metadata": {},
   "source": [
    "### 1. Data Structure : Sequence\n",
    "##### list, tuple, string (with index)"
   ]
  },
  {
   "cell_type": "code",
   "execution_count": 51,
   "id": "abandoned-longitude",
   "metadata": {},
   "outputs": [],
   "source": [
    "# liste\n",
    "list0 = []\n",
    "list1 = [1,2,3,4,5]\n",
    "list2 = [\"one\",\"two\",\"three\",\"four\"]\n",
    "list3 = [list2, list1]"
   ]
  },
  {
   "cell_type": "code",
   "execution_count": 52,
   "id": "korean-berkeley",
   "metadata": {},
   "outputs": [
    {
     "name": "stdout",
     "output_type": "stream",
     "text": [
      "List 1 :  [1, 2, 3, 4, 5]  List 3 :  [['one', 'two', 'three', 'four'], [1, 2, 3, 4, 5]]\n"
     ]
    }
   ],
   "source": [
    "print(\"List 1 : \",list1, \" List 3 : \", list3)"
   ]
  },
  {
   "cell_type": "code",
   "execution_count": 53,
   "id": "streaming-entry",
   "metadata": {},
   "outputs": [
    {
     "name": "stdout",
     "output_type": "stream",
     "text": [
      "First element : one Last element : four\n",
      "one   4   3\n",
      "[1, 3, 5] [1, 2] \n",
      " inverse :  [5, 4, 3, 2, 1]\n"
     ]
    }
   ],
   "source": [
    "# First & Last element -indexing-\n",
    "print(\"First element :\",list2[0], \"Last element :\", list2[-1])\n",
    "print(list2[0], \" \",list1[3], \" \",list3[1][2])\n",
    "\n",
    "# -slicing-\n",
    "print(list1[::2], list1[:2], \"\\n inverse : \",list1[::-1])"
   ]
  },
  {
   "cell_type": "markdown",
   "id": "broken-force",
   "metadata": {},
   "source": [
    "#### BASIC FUNCTIONS FOR DATA STRUCTURE"
   ]
  },
  {
   "cell_type": "code",
   "execution_count": 54,
   "id": "great-purse",
   "metadata": {},
   "outputs": [
    {
     "name": "stdout",
     "output_type": "stream",
     "text": [
      "[1, 2, 3, 4, 5, 99]\n",
      "[1, 2, 1000, 3, 4, 5, 99]\n",
      "[1, 2, 1000, 3, 4, 5, 99, 77, 88]\n",
      "[1000, 99, 88, 77, 5, 4, 3, 2, 1]\n",
      "1000 appeares : 1\n"
     ]
    }
   ],
   "source": [
    "# append --> at end \n",
    "list1.append(99)\n",
    "print(list1)\n",
    "\n",
    "# insert --> index\n",
    "list1.insert(2, 1000)\n",
    "print(list1)\n",
    "\n",
    "# extend --> 2 lists\n",
    "ext = [77,88]\n",
    "list1.extend(ext)\n",
    "print(list1)\n",
    "\n",
    "# len --> size \n",
    "len(list1)\n",
    "\n",
    "# sort --> reverse\n",
    "list1.sort(reverse=True)\n",
    "print(list1)\n",
    "\n",
    "# count(element)\n",
    "print(\"1000 appeares :\", list1.count(1000))"
   ]
  },
  {
   "cell_type": "code",
   "execution_count": 56,
   "id": "korean-cardiff",
   "metadata": {},
   "outputs": [
    {
     "name": "stdout",
     "output_type": "stream",
     "text": [
      "index  0 value :  1000\n",
      "index  1 value :  99\n",
      "index  2 value :  88\n",
      "index  3 value :  77\n",
      "index  4 value :  5\n",
      "index  5 value :  4\n",
      "index  6 value :  3\n",
      "index  7 value :  2\n",
      "index  8 value :  1\n",
      "1000  -->  one\n",
      "99  -->  two\n",
      "88  -->  three\n",
      "77  -->  four\n"
     ]
    }
   ],
   "source": [
    "# enumerate \n",
    "for i, v in enumerate(list1):\n",
    "    print(\"index \", i, \"value : \", v)\n",
    "    \n",
    "# zip\n",
    "for i,j in zip(list1, list2):\n",
    "    print(i, \" --> \", j)"
   ]
  },
  {
   "cell_type": "code",
   "execution_count": 33,
   "id": "direct-given",
   "metadata": {
    "scrolled": true
   },
   "outputs": [
    {
     "name": "stdout",
     "output_type": "stream",
     "text": [
      "(1, 2, 3, 4) 3 4\n",
      "\n",
      " (1, 2) inverse :  (4, 3, 2, 1)\n"
     ]
    }
   ],
   "source": [
    "# tuple -indexing-\n",
    "tuple1 = (1,2,3,4)\n",
    "print(tuple1, tuple1[2], tuple1[-1])\n",
    "\n",
    "# -slicing-\n",
    "print(\"\\n\",tuple1[:2], \"inverse : \", tuple1[::-1])"
   ]
  },
  {
   "cell_type": "code",
   "execution_count": 57,
   "id": "silent-malta",
   "metadata": {},
   "outputs": [
    {
     "name": "stdout",
     "output_type": "stream",
     "text": [
      "myname n e\n",
      "my \n",
      " inverse :  emanym\n"
     ]
    }
   ],
   "source": [
    "# String -indexing-\n",
    "name = \"myname\"\n",
    "print(name, name[2], name[-1])\n",
    "\n",
    "# -slicing-\n",
    "print(name[:2], \"\\n inverse : \", name[::-1])"
   ]
  },
  {
   "cell_type": "markdown",
   "id": "australian-girlfriend",
   "metadata": {},
   "source": [
    "### 2. Dictionary"
   ]
  },
  {
   "cell_type": "code",
   "execution_count": 66,
   "id": "ranging-quality",
   "metadata": {},
   "outputs": [
    {
     "name": "stdout",
     "output_type": "stream",
     "text": [
      "values :  dict_values([1, 2, 3, 4]) keys :  dict_keys(['one', 'two', 'three', 'four'])\n",
      "size :  4 get :  2\n"
     ]
    }
   ],
   "source": [
    "dict1 = {\n",
    "    \"one\": 1,\n",
    "    \"two\": 2,\n",
    "    \"three\": 3,\n",
    "    \"four\": 4\n",
    "}\n",
    "\n",
    "print(\"values : \",dict1.values(), \"keys : \",dict1.keys())\n",
    "print(\"size : \", len(dict1), \"get : \", dict1.get(\"two\", 1))"
   ]
  },
  {
   "cell_type": "code",
   "execution_count": 67,
   "id": "incorporate-johnston",
   "metadata": {},
   "outputs": [
    {
     "name": "stdout",
     "output_type": "stream",
     "text": [
      "{'one': 1, 'two': 2, 'three': 3, 'four': 4, 'five': 5}\n",
      "3\n"
     ]
    }
   ],
   "source": [
    "dict1[\"five\"]=5\n",
    "print(dict1)\n",
    "\n",
    "three = dict1.pop(\"three\")\n",
    "print(three)"
   ]
  },
  {
   "cell_type": "code",
   "execution_count": 71,
   "id": "silent-booth",
   "metadata": {},
   "outputs": [
    {
     "name": "stdout",
     "output_type": "stream",
     "text": [
      "1\n",
      "2\n",
      "4\n",
      "5\n",
      "-------------\n",
      "one\n",
      "two\n",
      "four\n",
      "five\n",
      "-------------\n",
      "one  -->  1\n",
      "two  -->  2\n",
      "four  -->  4\n",
      "five  -->  5\n"
     ]
    }
   ],
   "source": [
    "# for --> values \n",
    "for i in dict1.values():\n",
    "    print(i)\n",
    "\n",
    "print(\"-------------\")\n",
    "    \n",
    "# for --> keys\n",
    "for k in dict1.keys():\n",
    "    print(k)\n",
    "    \n",
    "print(\"-------------\")\n",
    "\n",
    "# for --> items\n",
    "for i,v in dict1.items():\n",
    "    print(i, \" --> \", v)"
   ]
  },
  {
   "cell_type": "markdown",
   "id": "prescribed-revolution",
   "metadata": {},
   "source": [
    "#### Practice"
   ]
  },
  {
   "cell_type": "code",
   "execution_count": 73,
   "id": "formed-territory",
   "metadata": {},
   "outputs": [],
   "source": [
    "def Trier(l):\n",
    "    classeur = {\n",
    "        \"mineurs\":[],\n",
    "        \"jeunes\" :[]\n",
    "    }\n",
    "    \n",
    "    for i in l:\n",
    "        if i < 18 :\n",
    "            classeur[\"mineurs\"].append(i)\n",
    "        else:\n",
    "            classeur[\"jeunes\"].append(i)\n",
    "    \n",
    "    return classeur"
   ]
  },
  {
   "cell_type": "markdown",
   "id": "rocky-teddy",
   "metadata": {},
   "source": [
    "### 3. List|Dictionary -> Comprehension"
   ]
  },
  {
   "cell_type": "code",
   "execution_count": 93,
   "id": "floating-liberal",
   "metadata": {},
   "outputs": [
    {
     "name": "stdout",
     "output_type": "stream",
     "text": [
      "mylist :  [0, 1, 2, 3, 4, 5, 6, 7, 8, 9] \n",
      " carre :  [0, 4, 16, 36, 64, 100] \n",
      " carreCondi :  [0, 4, 16, 36]\n"
     ]
    }
   ],
   "source": [
    "# List comprehension\n",
    "\n",
    "mylist = [i for i in range(10)]\n",
    "carre = [i**2 for i in range(0,11,2)]\n",
    "\n",
    "# conditions\n",
    "carreCondi = [i**2 for i in range(0,11,2) if i**2 < 60]\n",
    "\n",
    "print(\"mylist : \",mylist,\"\\n carre : \", carre, \"\\n carreCondi : \", carreCondi)"
   ]
  },
  {
   "cell_type": "code",
   "execution_count": 86,
   "id": "racial-roads",
   "metadata": {},
   "outputs": [
    {
     "name": "stdout",
     "output_type": "stream",
     "text": [
      "[[0, 2, 4, 6], [1, 3, 5, 7], [2, 4, 6, 8], [3, 5, 7, 9], [4, 6, 8, 10]]\n"
     ]
    }
   ],
   "source": [
    "mat1 = [[i+j for i in range(0,7,2)] for j in range(5)]\n",
    "print(mat1)"
   ]
  },
  {
   "cell_type": "code",
   "execution_count": 94,
   "id": "streaming-penetration",
   "metadata": {},
   "outputs": [
    {
     "name": "stdout",
     "output_type": "stream",
     "text": [
      "mynames :  {0: 'name1', 1: 'name2', 2: 'name3', 3: 'name4'} \n",
      " dico :  {'name1': 11, 'name2': 55, 'name3': 33, 'name4': 64} \n",
      " dicondi :  {'name2': 55, 'name4': 64}\n"
     ]
    }
   ],
   "source": [
    "# Dict comprehension\n",
    "names = [\"name1\", \"name2\", \"name3\", \"name4\"]\n",
    "ages = [11,55,33,64]\n",
    "\n",
    "mynames = {k:v for k,v in enumerate(names)}\n",
    "dico = {Name:Age for Name,Age in zip(names, ages)}\n",
    "\n",
    "# conditions \n",
    "dicondi = {Name:Age for Name,Age in zip(names, ages) if Age>35}\n",
    "\n",
    "print(\"mynames : \",mynames, \"\\n dico : \", dico, \"\\n dicondi : \", dicondi)"
   ]
  },
  {
   "cell_type": "code",
   "execution_count": null,
   "id": "satisfied-spanish",
   "metadata": {},
   "outputs": [],
   "source": []
  }
 ],
 "metadata": {
  "kernelspec": {
   "display_name": "Python 3",
   "language": "python",
   "name": "python3"
  },
  "language_info": {
   "codemirror_mode": {
    "name": "ipython",
    "version": 3
   },
   "file_extension": ".py",
   "mimetype": "text/x-python",
   "name": "python",
   "nbconvert_exporter": "python",
   "pygments_lexer": "ipython3",
   "version": "3.7.0"
  }
 },
 "nbformat": 4,
 "nbformat_minor": 5
}
