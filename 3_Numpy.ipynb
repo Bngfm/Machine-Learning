{
 "cells": [
  {
   "cell_type": "code",
   "execution_count": 1,
   "id": "acting-african",
   "metadata": {},
   "outputs": [],
   "source": [
    "import numpy as np"
   ]
  },
  {
   "cell_type": "code",
   "execution_count": 2,
   "id": "ahead-sacramento",
   "metadata": {},
   "outputs": [
    {
     "data": {
      "text/plain": [
       "(array([1, 2, 3]), (3,), 1, 3)"
      ]
     },
     "execution_count": 2,
     "metadata": {},
     "output_type": "execute_result"
    }
   ],
   "source": [
    "X = np.array([1,2,3])\n",
    "X, X.shape, X.ndim, X.size"
   ]
  },
  {
   "cell_type": "code",
   "execution_count": null,
   "id": "right-theory",
   "metadata": {},
   "outputs": [],
   "source": []
  },
  {
   "cell_type": "code",
   "execution_count": 3,
   "id": "convenient-paradise",
   "metadata": {},
   "outputs": [
    {
     "data": {
      "text/plain": [
       "(array([[0., 0.],\n",
       "        [0., 0.],\n",
       "        [0., 0.]]),\n",
       " (3, 2),\n",
       " 6,\n",
       " array([[1., 1., 1., 1.],\n",
       "        [1., 1., 1., 1.],\n",
       "        [1., 1., 1., 1.],\n",
       "        [1., 1., 1., 1.]]),\n",
       " array([[5, 5, 5],\n",
       "        [5, 5, 5],\n",
       "        [5, 5, 5]]))"
      ]
     },
     "execution_count": 3,
     "metadata": {},
     "output_type": "execute_result"
    }
   ],
   "source": [
    "Z = np.zeros((3,2))\n",
    "O = np.ones((4,4))\n",
    "F = np.full((3,3), 5)\n",
    "\n",
    "Z, Z.shape, Z.size, O, F "
   ]
  },
  {
   "cell_type": "code",
   "execution_count": null,
   "id": "early-violin",
   "metadata": {},
   "outputs": [],
   "source": []
  },
  {
   "cell_type": "code",
   "execution_count": 4,
   "id": "mineral-webcam",
   "metadata": {},
   "outputs": [
    {
     "data": {
      "text/plain": [
       "array([[ 1.76405235,  0.40015721,  0.97873798,  2.2408932 ],\n",
       "       [ 1.86755799, -0.97727788,  0.95008842, -0.15135721]])"
      ]
     },
     "execution_count": 4,
     "metadata": {},
     "output_type": "execute_result"
    }
   ],
   "source": [
    "np.random.seed(0)\n",
    "np.random.randn(2,4)"
   ]
  },
  {
   "cell_type": "code",
   "execution_count": 5,
   "id": "standing-bernard",
   "metadata": {},
   "outputs": [
    {
     "data": {
      "text/plain": [
       "array([0.    , 0.5557, 1.111 , 1.667 , 2.223 , 2.777 , 3.334 , 3.889 ,\n",
       "       4.445 , 5.    ], dtype=float16)"
      ]
     },
     "execution_count": 5,
     "metadata": {},
     "output_type": "execute_result"
    }
   ],
   "source": [
    "np.linspace(0, 5, 10, dtype=np.float16)"
   ]
  },
  {
   "cell_type": "code",
   "execution_count": 6,
   "id": "matched-facing",
   "metadata": {},
   "outputs": [
    {
     "data": {
      "text/plain": [
       "(array([[1., 1., 0., 0.],\n",
       "        [1., 1., 0., 0.],\n",
       "        [1., 1., 0., 0.]]),\n",
       " array([[1., 1.],\n",
       "        [1., 1.],\n",
       "        [1., 1.],\n",
       "        [0., 0.],\n",
       "        [0., 0.],\n",
       "        [0., 0.]]))"
      ]
     },
     "execution_count": 6,
     "metadata": {},
     "output_type": "execute_result"
    }
   ],
   "source": [
    "A = np.ones((3,2))\n",
    "B = np.zeros((3,2))\n",
    "np.hstack((A, B)), np.vstack((A,B))"
   ]
  },
  {
   "cell_type": "code",
   "execution_count": 7,
   "id": "talented-rebound",
   "metadata": {},
   "outputs": [
    {
     "data": {
      "text/plain": [
       "(array([[1., 1.],\n",
       "        [1., 1.],\n",
       "        [1., 1.],\n",
       "        [0., 0.],\n",
       "        [0., 0.],\n",
       "        [0., 0.]]),\n",
       " array([[1., 1., 0., 0.],\n",
       "        [1., 1., 0., 0.],\n",
       "        [1., 1., 0., 0.]]))"
      ]
     },
     "execution_count": 7,
     "metadata": {},
     "output_type": "execute_result"
    }
   ],
   "source": [
    "AA = np.concatenate((A, B), axis=1)\n",
    "np.concatenate((A, B), axis=0), AA"
   ]
  },
  {
   "cell_type": "code",
   "execution_count": 8,
   "id": "promising-klein",
   "metadata": {},
   "outputs": [
    {
     "data": {
      "text/plain": [
       "array([[1., 1., 0., 0., 1., 1., 0., 0., 1., 1., 0., 0.]])"
      ]
     },
     "execution_count": 8,
     "metadata": {},
     "output_type": "execute_result"
    }
   ],
   "source": [
    "AA = AA.reshape((1,12))\n",
    "AA"
   ]
  },
  {
   "cell_type": "code",
   "execution_count": 9,
   "id": "distributed-nature",
   "metadata": {},
   "outputs": [
    {
     "data": {
      "text/plain": [
       "array([[1.],\n",
       "       [1.],\n",
       "       [0.],\n",
       "       [0.],\n",
       "       [1.],\n",
       "       [1.],\n",
       "       [0.],\n",
       "       [0.],\n",
       "       [1.],\n",
       "       [1.],\n",
       "       [0.],\n",
       "       [0.]])"
      ]
     },
     "execution_count": 9,
     "metadata": {},
     "output_type": "execute_result"
    }
   ],
   "source": [
    "AA = AA.reshape((12,1))\n",
    "AA"
   ]
  },
  {
   "cell_type": "code",
   "execution_count": 10,
   "id": "prescription-disposition",
   "metadata": {},
   "outputs": [
    {
     "data": {
      "text/plain": [
       "(4,)"
      ]
     },
     "execution_count": 10,
     "metadata": {},
     "output_type": "execute_result"
    }
   ],
   "source": [
    "tmp = np.array([1,2,3,4])\n",
    "tmp.shape"
   ]
  },
  {
   "cell_type": "code",
   "execution_count": 11,
   "id": "stylish-shopping",
   "metadata": {},
   "outputs": [
    {
     "data": {
      "text/plain": [
       "4"
      ]
     },
     "execution_count": 11,
     "metadata": {},
     "output_type": "execute_result"
    }
   ],
   "source": [
    "tmp.shape[0]"
   ]
  },
  {
   "cell_type": "code",
   "execution_count": 12,
   "id": "unnecessary-fishing",
   "metadata": {},
   "outputs": [
    {
     "data": {
      "text/plain": [
       "(4, 1)"
      ]
     },
     "execution_count": 12,
     "metadata": {},
     "output_type": "execute_result"
    }
   ],
   "source": [
    "tmp = tmp.reshape((tmp.shape[0], 1))\n",
    "tmp.shape "
   ]
  },
  {
   "cell_type": "markdown",
   "id": "light-tattoo",
   "metadata": {},
   "source": [
    "#### faire delete les dimension ou apparait 1"
   ]
  },
  {
   "cell_type": "code",
   "execution_count": 13,
   "id": "seventh-annotation",
   "metadata": {},
   "outputs": [
    {
     "data": {
      "text/plain": [
       "(4,)"
      ]
     },
     "execution_count": 13,
     "metadata": {},
     "output_type": "execute_result"
    }
   ],
   "source": [
    "tmp = tmp.squeeze()\n",
    "tmp.shape"
   ]
  },
  {
   "cell_type": "code",
   "execution_count": 14,
   "id": "reasonable-pastor",
   "metadata": {},
   "outputs": [
    {
     "data": {
      "text/plain": [
       "array([[1., 1., 1., 1., 1.],\n",
       "       [1., 1., 1., 1., 1.],\n",
       "       [1., 1., 1., 1., 1.],\n",
       "       [1., 1., 1., 1., 1.],\n",
       "       [1., 1., 1., 1., 1.]])"
      ]
     },
     "execution_count": 14,
     "metadata": {},
     "output_type": "execute_result"
    }
   ],
   "source": [
    "S = np.ones((5,5))\n",
    "S "
   ]
  },
  {
   "cell_type": "code",
   "execution_count": 15,
   "id": "liquid-bachelor",
   "metadata": {},
   "outputs": [
    {
     "data": {
      "text/plain": [
       "array([[1., 1., 0., 0., 0.],\n",
       "       [1., 1., 0., 0., 0.],\n",
       "       [1., 1., 1., 1., 1.],\n",
       "       [1., 1., 1., 1., 1.],\n",
       "       [1., 1., 1., 1., 1.]])"
      ]
     },
     "execution_count": 15,
     "metadata": {},
     "output_type": "execute_result"
    }
   ],
   "source": [
    "S[:2, 2:]=0\n",
    "S"
   ]
  },
  {
   "cell_type": "code",
   "execution_count": 17,
   "id": "surprised-halifax",
   "metadata": {},
   "outputs": [
    {
     "data": {
      "text/plain": [
       "array([0., 0., 0., 0., 0., 0.])"
      ]
     },
     "execution_count": 17,
     "metadata": {},
     "output_type": "execute_result"
    }
   ],
   "source": [
    "sub = S[S==0]\n",
    "sub"
   ]
  },
  {
   "cell_type": "code",
   "execution_count": 19,
   "id": "adapted-steel",
   "metadata": {},
   "outputs": [
    {
     "data": {
      "text/plain": [
       "array([[0, 5, 0, 5],\n",
       "       [5, 5, 5, 5],\n",
       "       [0, 5, 0, 5],\n",
       "       [5, 5, 5, 5]])"
      ]
     },
     "execution_count": 19,
     "metadata": {},
     "output_type": "execute_result"
    }
   ],
   "source": [
    "U = np.full((4,4), 5)\n",
    "U[::2, ::2] = 0\n",
    "U "
   ]
  },
  {
   "cell_type": "code",
   "execution_count": 20,
   "id": "rocky-scholar",
   "metadata": {},
   "outputs": [
    {
     "data": {
      "text/plain": [
       "array([[1, 1, 3, 2],\n",
       "       [3, 4, 4, 3],\n",
       "       [1, 2, 2, 2],\n",
       "       [2, 1, 2, 1]])"
      ]
     },
     "execution_count": 20,
     "metadata": {},
     "output_type": "execute_result"
    }
   ],
   "source": [
    "T = np.random.randint(1,5, [4,4])\n",
    "T "
   ]
  },
  {
   "cell_type": "code",
   "execution_count": 21,
   "id": "deluxe-bahamas",
   "metadata": {},
   "outputs": [
    {
     "data": {
      "text/plain": [
       "array([[ True,  True, False,  True],\n",
       "       [False, False, False, False],\n",
       "       [ True,  True,  True,  True],\n",
       "       [ True,  True,  True,  True]])"
      ]
     },
     "execution_count": 21,
     "metadata": {},
     "output_type": "execute_result"
    }
   ],
   "source": [
    "T<3 "
   ]
  },
  {
   "cell_type": "code",
   "execution_count": 22,
   "id": "formed-macedonia",
   "metadata": {},
   "outputs": [
    {
     "data": {
      "text/plain": [
       "array([1, 1, 2, 1, 2, 2, 2, 2, 1, 2, 1])"
      ]
     },
     "execution_count": 22,
     "metadata": {},
     "output_type": "execute_result"
    }
   ],
   "source": [
    "T[T<3]"
   ]
  },
  {
   "cell_type": "markdown",
   "id": "soviet-alloy",
   "metadata": {},
   "source": [
    "# Application"
   ]
  },
  {
   "cell_type": "code",
   "execution_count": 41,
   "id": "otherwise-electronics",
   "metadata": {},
   "outputs": [
    {
     "data": {
      "text/plain": [
       "array([[9, 4, 0],\n",
       "       [1, 9, 0],\n",
       "       [1, 8, 9]])"
      ]
     },
     "execution_count": 41,
     "metadata": {},
     "output_type": "execute_result"
    }
   ],
   "source": [
    "np.random.seed(10)\n",
    "tab = np.random.randint(0, 10, [3,3])\n",
    "tab"
   ]
  },
  {
   "cell_type": "markdown",
   "id": "prescription-airplane",
   "metadata": {},
   "source": [
    "## All, Any"
   ]
  },
  {
   "cell_type": "code",
   "execution_count": 39,
   "id": "accomplished-angel",
   "metadata": {},
   "outputs": [
    {
     "data": {
      "text/plain": [
       "(array([ True,  True, False]), array([False, False,  True]))"
      ]
     },
     "execution_count": 39,
     "metadata": {},
     "output_type": "execute_result"
    }
   ],
   "source": [
    "tab.all(axis=0), tab.all(axis=1) # Line, column"
   ]
  },
  {
   "cell_type": "code",
   "execution_count": 40,
   "id": "subjective-wright",
   "metadata": {},
   "outputs": [
    {
     "data": {
      "text/plain": [
       "(array([ True,  True,  True]), array([ True,  True,  True]))"
      ]
     },
     "execution_count": 40,
     "metadata": {},
     "output_type": "execute_result"
    }
   ],
   "source": [
    "tab.any(axis=0), tab.any(axis=1)"
   ]
  },
  {
   "cell_type": "markdown",
   "id": "received-secondary",
   "metadata": {},
   "source": [
    "## sum, cumsum, cumprod, min, max, cumsum, argmin, argmax, exp"
   ]
  },
  {
   "cell_type": "code",
   "execution_count": 46,
   "id": "beginning-combination",
   "metadata": {},
   "outputs": [
    {
     "data": {
      "text/plain": [
       "(41, array([11, 21,  9]), array([13, 10, 18]))"
      ]
     },
     "execution_count": 46,
     "metadata": {},
     "output_type": "execute_result"
    }
   ],
   "source": [
    "tab.sum(), tab.sum(axis=0), tab.sum(axis=1)"
   ]
  },
  {
   "cell_type": "code",
   "execution_count": 50,
   "id": "focused-street",
   "metadata": {},
   "outputs": [
    {
     "data": {
      "text/plain": [
       "(array([[ 9,  4,  0],\n",
       "        [10, 13,  0],\n",
       "        [11, 21,  9]], dtype=int32),\n",
       " array([[ 9, 13, 13],\n",
       "        [ 1, 10, 10],\n",
       "        [ 1,  9, 18]], dtype=int32),\n",
       " array([ 9, 13, 13, 14, 23, 23, 24, 32, 41], dtype=int32))"
      ]
     },
     "execution_count": 50,
     "metadata": {},
     "output_type": "execute_result"
    }
   ],
   "source": [
    "tab.cumsum(axis=0), tab.cumsum(axis=1), tab.cumsum()"
   ]
  },
  {
   "cell_type": "code",
   "execution_count": 53,
   "id": "small-military",
   "metadata": {},
   "outputs": [
    {
     "data": {
      "text/plain": [
       "(array([[  9,   4,   0],\n",
       "        [  9,  36,   0],\n",
       "        [  9, 288,   0]], dtype=int32),\n",
       " array([[ 9, 36,  0],\n",
       "        [ 1,  9,  0],\n",
       "        [ 1,  8, 72]], dtype=int32),\n",
       " array([ 9, 36,  0,  0,  0,  0,  0,  0,  0], dtype=int32))"
      ]
     },
     "execution_count": 53,
     "metadata": {},
     "output_type": "execute_result"
    }
   ],
   "source": [
    "tab.cumprod(axis=0), tab.cumprod(axis=1), tab.cumprod()"
   ]
  },
  {
   "cell_type": "code",
   "execution_count": 60,
   "id": "later-queensland",
   "metadata": {},
   "outputs": [
    {
     "data": {
      "text/plain": [
       "(array([1, 4, 0]), array([0, 0, 1]), 0, 2)"
      ]
     },
     "execution_count": 60,
     "metadata": {},
     "output_type": "execute_result"
    }
   ],
   "source": [
    "tab.min(axis=0), tab.min(axis=1), tab.min(), tab.argmin()"
   ]
  },
  {
   "cell_type": "code",
   "execution_count": 61,
   "id": "close-ultimate",
   "metadata": {},
   "outputs": [
    {
     "data": {
      "text/plain": [
       "(array([9, 9, 9]), array([9, 9, 9]), 9, 0)"
      ]
     },
     "execution_count": 61,
     "metadata": {},
     "output_type": "execute_result"
    }
   ],
   "source": [
    "tab.max(axis=0), tab.max(axis=1), tab.max(), tab.argmax()"
   ]
  },
  {
   "cell_type": "code",
   "execution_count": 62,
   "id": "creative-rolling",
   "metadata": {},
   "outputs": [
    {
     "data": {
      "text/plain": [
       "array([[8.10308393e+03, 5.45981500e+01, 1.00000000e+00],\n",
       "       [2.71828183e+00, 8.10308393e+03, 1.00000000e+00],\n",
       "       [2.71828183e+00, 2.98095799e+03, 8.10308393e+03]])"
      ]
     },
     "execution_count": 62,
     "metadata": {},
     "output_type": "execute_result"
    }
   ],
   "source": [
    "np.exp(tab)"
   ]
  },
  {
   "cell_type": "markdown",
   "id": "toxic-controversy",
   "metadata": {},
   "source": [
    "## stat\n",
    "### mean, std, var, corrcoef, unique"
   ]
  },
  {
   "cell_type": "code",
   "execution_count": 65,
   "id": "noted-father",
   "metadata": {},
   "outputs": [
    {
     "data": {
      "text/plain": [
       "(4.555555555555555,\n",
       " array([3.66666667, 7.        , 3.        ]),\n",
       " array([4.33333333, 3.33333333, 6.        ]))"
      ]
     },
     "execution_count": 65,
     "metadata": {},
     "output_type": "execute_result"
    }
   ],
   "source": [
    "tab.mean(), tab.mean(axis=0), tab.mean(axis=1)"
   ]
  },
  {
   "cell_type": "code",
   "execution_count": 69,
   "id": "ultimate-beach",
   "metadata": {},
   "outputs": [
    {
     "data": {
      "text/plain": [
       "(3.9189315752329774,\n",
       " array([3.77123617, 2.1602469 , 4.24264069]),\n",
       " array([3.68178701, 4.02768199, 3.55902608]))"
      ]
     },
     "execution_count": 69,
     "metadata": {},
     "output_type": "execute_result"
    }
   ],
   "source": [
    "tab.std(), tab.std(axis=0), tab.std(axis=1)"
   ]
  },
  {
   "cell_type": "code",
   "execution_count": 72,
   "id": "editorial-defeat",
   "metadata": {},
   "outputs": [
    {
     "data": {
      "text/plain": [
       "(15.358024691358025,\n",
       " array([14.22222222,  4.66666667, 18.        ]),\n",
       " array([13.55555556, 16.22222222, 12.66666667]))"
      ]
     },
     "execution_count": 72,
     "metadata": {},
     "output_type": "execute_result"
    }
   ],
   "source": [
    "tab.var(), tab.var(axis=0), tab.var(axis=1)"
   ]
  },
  {
   "cell_type": "code",
   "execution_count": 74,
   "id": "least-generation",
   "metadata": {},
   "outputs": [
    {
     "data": {
      "text/plain": [
       "array([[ 1.        ,  0.03746396, -0.9412189 ],\n",
       "       [ 0.03746396,  1.        ,  0.30229833],\n",
       "       [-0.9412189 ,  0.30229833,  1.        ]])"
      ]
     },
     "execution_count": 74,
     "metadata": {},
     "output_type": "execute_result"
    }
   ],
   "source": [
    "np.corrcoef(tab)"
   ]
  },
  {
   "cell_type": "code",
   "execution_count": 75,
   "id": "powered-glucose",
   "metadata": {},
   "outputs": [
    {
     "data": {
      "text/plain": [
       "0.30229833381011073"
      ]
     },
     "execution_count": 75,
     "metadata": {},
     "output_type": "execute_result"
    }
   ],
   "source": [
    "np.corrcoef(tab)[1,2]"
   ]
  },
  {
   "cell_type": "code",
   "execution_count": 76,
   "id": "infectious-innocent",
   "metadata": {},
   "outputs": [
    {
     "data": {
      "text/plain": [
       "(array([0, 1, 4, 8, 9]), array([2, 2, 1, 1, 3], dtype=int64))"
      ]
     },
     "execution_count": 76,
     "metadata": {},
     "output_type": "execute_result"
    }
   ],
   "source": [
    "np.unique(tab, return_counts=True)"
   ]
  },
  {
   "cell_type": "code",
   "execution_count": 79,
   "id": "indoor-slope",
   "metadata": {},
   "outputs": [
    {
     "data": {
      "text/plain": [
       "array([2, 2, 1, 1, 3], dtype=int64)"
      ]
     },
     "execution_count": 79,
     "metadata": {},
     "output_type": "execute_result"
    }
   ],
   "source": [
    "values, counts = np.unique(tab, return_counts=True)\n",
    "counts"
   ]
  },
  {
   "cell_type": "code",
   "execution_count": 80,
   "id": "corresponding-prescription",
   "metadata": {},
   "outputs": [
    {
     "data": {
      "text/plain": [
       "array([2, 3, 0, 1, 4], dtype=int64)"
      ]
     },
     "execution_count": 80,
     "metadata": {},
     "output_type": "execute_result"
    }
   ],
   "source": [
    "counts.argsort()"
   ]
  },
  {
   "cell_type": "code",
   "execution_count": 81,
   "id": "threatened-phrase",
   "metadata": {},
   "outputs": [
    {
     "data": {
      "text/plain": [
       "array([4, 8, 0, 1, 9])"
      ]
     },
     "execution_count": 81,
     "metadata": {},
     "output_type": "execute_result"
    }
   ],
   "source": [
    "# sort values \n",
    "values[counts.argsort()]"
   ]
  },
  {
   "cell_type": "code",
   "execution_count": 82,
   "id": "extreme-spencer",
   "metadata": {},
   "outputs": [
    {
     "name": "stdout",
     "output_type": "stream",
     "text": [
      "value 4 appeare 1\n",
      "value 8 appeare 1\n",
      "value 0 appeare 2\n",
      "value 1 appeare 2\n",
      "value 9 appeare 3\n"
     ]
    }
   ],
   "source": [
    "for i, j in zip(values[counts.argsort()], counts[counts.argsort()]):\n",
    "    print(f'value {i} appeare {j}')"
   ]
  },
  {
   "cell_type": "markdown",
   "id": "legitimate-castle",
   "metadata": {},
   "source": [
    "### NAN Corrections"
   ]
  },
  {
   "cell_type": "code",
   "execution_count": 89,
   "id": "superior-brake",
   "metadata": {},
   "outputs": [
    {
     "data": {
      "text/plain": [
       "array([[-0.70707145,  0.54666484,  0.94250041, -2.97959677,         nan],\n",
       "       [-0.05652072,  0.46088845,         nan, -2.29510333, -1.19592931],\n",
       "       [-0.33310116, -0.79139077,  0.27417278, -0.51490992, -1.7110712 ],\n",
       "       [ 0.61229731,  1.10012937,  0.56435253, -0.71279944, -0.26085948],\n",
       "       [ 0.54842807,  0.60319905,  1.00686114, -0.29442601, -1.42088052]])"
      ]
     },
     "execution_count": 89,
     "metadata": {},
     "output_type": "execute_result"
    }
   ],
   "source": [
    "A = np.random.randn(5, 5)\n",
    "A[0,4] = np.nan \n",
    "A[1,2] = np.nan \n",
    "A "
   ]
  },
  {
   "cell_type": "code",
   "execution_count": 96,
   "id": "juvenile-landscape",
   "metadata": {},
   "outputs": [
    {
     "data": {
      "text/plain": [
       "(nan,\n",
       " -0.2875724402004502,\n",
       " 1.1237184273491692,\n",
       " -2.979596771061134,\n",
       " 1.1001293740133287,\n",
       " 1.0600558604852715)"
      ]
     },
     "execution_count": 96,
     "metadata": {},
     "output_type": "execute_result"
    }
   ],
   "source": [
    "A.mean(), np.nanmean(A), np.nanvar(A), np.nanmin(A), np.nanmax(A), np.nanstd(A)"
   ]
  },
  {
   "cell_type": "code",
   "execution_count": 101,
   "id": "angry-married",
   "metadata": {},
   "outputs": [
    {
     "data": {
      "text/plain": [
       "(array([[False, False, False, False,  True],\n",
       "        [False, False,  True, False, False],\n",
       "        [False, False, False, False, False],\n",
       "        [False, False, False, False, False],\n",
       "        [False, False, False, False, False]]),\n",
       " 2,\n",
       " 0.08)"
      ]
     },
     "execution_count": 101,
     "metadata": {},
     "output_type": "execute_result"
    }
   ],
   "source": [
    "np.isnan(A), np.isnan(A).sum(), np.isnan(A).sum()/A.size"
   ]
  },
  {
   "cell_type": "code",
   "execution_count": 103,
   "id": "important-secretary",
   "metadata": {},
   "outputs": [
    {
     "data": {
      "text/plain": [
       "array([[-0.70707145,  0.54666484,  0.94250041, -2.97959677,  0.        ],\n",
       "       [-0.05652072,  0.46088845,  0.        , -2.29510333, -1.19592931],\n",
       "       [-0.33310116, -0.79139077,  0.27417278, -0.51490992, -1.7110712 ],\n",
       "       [ 0.61229731,  1.10012937,  0.56435253, -0.71279944, -0.26085948],\n",
       "       [ 0.54842807,  0.60319905,  1.00686114, -0.29442601, -1.42088052]])"
      ]
     },
     "execution_count": 103,
     "metadata": {},
     "output_type": "execute_result"
    }
   ],
   "source": [
    "A[np.isnan(A)] = 0\n",
    "A "
   ]
  },
  {
   "cell_type": "markdown",
   "id": "bizarre-search",
   "metadata": {},
   "source": [
    "## Linear algera"
   ]
  },
  {
   "cell_type": "code",
   "execution_count": 104,
   "id": "detected-edwards",
   "metadata": {},
   "outputs": [],
   "source": [
    "A = np.ones((3,2))\n",
    "B = np.ones((2,3))"
   ]
  },
  {
   "cell_type": "code",
   "execution_count": 107,
   "id": "through-reduction",
   "metadata": {},
   "outputs": [
    {
     "data": {
      "text/plain": [
       "(array([[1., 1.],\n",
       "        [1., 1.],\n",
       "        [1., 1.]]),\n",
       " (3, 2),\n",
       " array([[1., 1., 1.],\n",
       "        [1., 1., 1.]]),\n",
       " (2, 3))"
      ]
     },
     "execution_count": 107,
     "metadata": {},
     "output_type": "execute_result"
    }
   ],
   "source": [
    "A, A.shape, A.T, A.T.shape"
   ]
  },
  {
   "cell_type": "code",
   "execution_count": 109,
   "id": "written-error",
   "metadata": {},
   "outputs": [
    {
     "data": {
      "text/plain": [
       "(array([[2., 2., 2.],\n",
       "        [2., 2., 2.],\n",
       "        [2., 2., 2.]]),\n",
       " array([[3., 3.],\n",
       "        [3., 3.]]))"
      ]
     },
     "execution_count": 109,
     "metadata": {},
     "output_type": "execute_result"
    }
   ],
   "source": [
    "A.dot(B), B.dot(A)"
   ]
  },
  {
   "cell_type": "markdown",
   "id": "potential-request",
   "metadata": {},
   "source": [
    "### linalg"
   ]
  },
  {
   "cell_type": "code",
   "execution_count": 113,
   "id": "stupid-architect",
   "metadata": {},
   "outputs": [
    {
     "data": {
      "text/plain": [
       "0.0"
      ]
     },
     "execution_count": 113,
     "metadata": {},
     "output_type": "execute_result"
    }
   ],
   "source": [
    "np.linalg.det(A.dot(B))"
   ]
  },
  {
   "cell_type": "code",
   "execution_count": null,
   "id": "third-jersey",
   "metadata": {},
   "outputs": [],
   "source": []
  }
 ],
 "metadata": {
  "kernelspec": {
   "display_name": "Python 3",
   "language": "python",
   "name": "python3"
  },
  "language_info": {
   "codemirror_mode": {
    "name": "ipython",
    "version": 3
   },
   "file_extension": ".py",
   "mimetype": "text/x-python",
   "name": "python",
   "nbconvert_exporter": "python",
   "pygments_lexer": "ipython3",
   "version": "3.7.0"
  }
 },
 "nbformat": 4,
 "nbformat_minor": 5
}
